{
 "cells": [
  {
   "cell_type": "markdown",
   "metadata": {
    "tags": []
   },
   "source": [
    "# Projet - Real or Not? NLP with Disaster Tweets\n",
    "\n",
    "## 1.Project description \n",
    "\n",
    "* Competition - https://www.kaggle.com/c/nlp-getting-started"
   ]
  },
  {
   "cell_type": "markdown",
   "metadata": {},
   "source": [
    "Data Description\n",
    "What files do I need?\n",
    "You'll need train.csv, test.csv and sample_submission.csv.\n",
    "\n",
    "What should I expect the data format to be?\n",
    "Each sample in the train and test set has the following information:\n",
    "\n",
    "The text of a tweet\n",
    "A keyword from that tweet (although this may be blank!)\n",
    "The location the tweet was sent from (may also be blank)\n",
    "What am I predicting?\n",
    "You are predicting whether a given tweet is about a real disaster or not. If so, predict a 1. If not, predict a 0.\n",
    "\n",
    "Files\n",
    "train.csv - the training set\n",
    "test.csv - the test set\n",
    "sample_submission.csv - a sample submission file in the correct format\n",
    "Columns\n",
    "id - a unique identifier for each tweet\n",
    "text - the text of the tweet\n",
    "location - the location the tweet was sent from (may be blank)\n",
    "keyword - a particular keyword from the tweet (may be blank)\n",
    "target - in train.csv only, this denotes whether a tweet is about a real disaster (1) or not (0)"
   ]
  },
  {
   "cell_type": "code",
   "execution_count": 1,
   "metadata": {
    "tags": []
   },
   "outputs": [
    {
     "name": "stdout",
     "output_type": "stream",
     "text": [
      "Requirement already satisfied: spacy in /opt/conda/lib/python3.9/site-packages (3.2.2)\n",
      "Requirement already satisfied: numpy>=1.15.0 in /opt/conda/lib/python3.9/site-packages (from spacy) (1.21.5)\n",
      "Requirement already satisfied: murmurhash<1.1.0,>=0.28.0 in /opt/conda/lib/python3.9/site-packages (from spacy) (1.0.6)\n",
      "Requirement already satisfied: pathy>=0.3.5 in /opt/conda/lib/python3.9/site-packages (from spacy) (0.6.1)\n",
      "Requirement already satisfied: packaging>=20.0 in /opt/conda/lib/python3.9/site-packages (from spacy) (21.3)\n",
      "Requirement already satisfied: srsly<3.0.0,>=2.4.1 in /opt/conda/lib/python3.9/site-packages (from spacy) (2.4.2)\n",
      "Requirement already satisfied: typer<0.5.0,>=0.3.0 in /opt/conda/lib/python3.9/site-packages (from spacy) (0.4.0)\n",
      "Requirement already satisfied: pydantic!=1.8,!=1.8.1,<1.9.0,>=1.7.4 in /opt/conda/lib/python3.9/site-packages (from spacy) (1.8.2)\n",
      "Requirement already satisfied: spacy-legacy<3.1.0,>=3.0.8 in /opt/conda/lib/python3.9/site-packages (from spacy) (3.0.8)\n",
      "Requirement already satisfied: thinc<8.1.0,>=8.0.12 in /opt/conda/lib/python3.9/site-packages (from spacy) (8.0.13)\n",
      "Requirement already satisfied: catalogue<2.1.0,>=2.0.6 in /opt/conda/lib/python3.9/site-packages (from spacy) (2.0.6)\n",
      "Requirement already satisfied: requests<3.0.0,>=2.13.0 in /opt/conda/lib/python3.9/site-packages (from spacy) (2.27.1)\n",
      "Requirement already satisfied: preshed<3.1.0,>=3.0.2 in /opt/conda/lib/python3.9/site-packages (from spacy) (3.0.6)\n",
      "Requirement already satisfied: spacy-loggers<2.0.0,>=1.0.0 in /opt/conda/lib/python3.9/site-packages (from spacy) (1.0.1)\n",
      "Requirement already satisfied: setuptools in /opt/conda/lib/python3.9/site-packages (from spacy) (59.8.0)\n",
      "Requirement already satisfied: jinja2 in /opt/conda/lib/python3.9/site-packages (from spacy) (3.0.3)\n",
      "Requirement already satisfied: langcodes<4.0.0,>=3.2.0 in /opt/conda/lib/python3.9/site-packages (from spacy) (3.3.0)\n",
      "Requirement already satisfied: blis<0.8.0,>=0.4.0 in /opt/conda/lib/python3.9/site-packages (from spacy) (0.7.6)\n",
      "Requirement already satisfied: tqdm<5.0.0,>=4.38.0 in /opt/conda/lib/python3.9/site-packages (from spacy) (4.62.3)\n",
      "Requirement already satisfied: wasabi<1.1.0,>=0.8.1 in /opt/conda/lib/python3.9/site-packages (from spacy) (0.9.0)\n",
      "Requirement already satisfied: cymem<2.1.0,>=2.0.2 in /opt/conda/lib/python3.9/site-packages (from spacy) (2.0.6)\n",
      "Requirement already satisfied: pyparsing!=3.0.5,>=2.0.2 in /opt/conda/lib/python3.9/site-packages (from packaging>=20.0->spacy) (3.0.7)\n",
      "Requirement already satisfied: smart-open<6.0.0,>=5.0.0 in /opt/conda/lib/python3.9/site-packages (from pathy>=0.3.5->spacy) (5.2.1)\n",
      "Requirement already satisfied: typing-extensions>=3.7.4.3 in /opt/conda/lib/python3.9/site-packages (from pydantic!=1.8,!=1.8.1,<1.9.0,>=1.7.4->spacy) (4.0.1)\n",
      "Requirement already satisfied: idna<4,>=2.5 in /opt/conda/lib/python3.9/site-packages (from requests<3.0.0,>=2.13.0->spacy) (3.3)\n",
      "Requirement already satisfied: charset-normalizer~=2.0.0 in /opt/conda/lib/python3.9/site-packages (from requests<3.0.0,>=2.13.0->spacy) (2.0.10)\n",
      "Requirement already satisfied: urllib3<1.27,>=1.21.1 in /opt/conda/lib/python3.9/site-packages (from requests<3.0.0,>=2.13.0->spacy) (1.26.8)\n",
      "Requirement already satisfied: certifi>=2017.4.17 in /opt/conda/lib/python3.9/site-packages (from requests<3.0.0,>=2.13.0->spacy) (2021.10.8)\n",
      "Requirement already satisfied: click<9.0.0,>=7.1.1 in /opt/conda/lib/python3.9/site-packages (from typer<0.5.0,>=0.3.0->spacy) (8.0.3)\n",
      "Requirement already satisfied: MarkupSafe>=2.0 in /opt/conda/lib/python3.9/site-packages (from jinja2->spacy) (2.0.1)\n",
      "Note: you may need to restart the kernel to use updated packages.\n"
     ]
    }
   ],
   "source": [
    "pip install spacy"
   ]
  },
  {
   "cell_type": "code",
   "execution_count": 2,
   "metadata": {
    "tags": []
   },
   "outputs": [
    {
     "name": "stdout",
     "output_type": "stream",
     "text": [
      "Requirement already satisfied: tensorflow in /opt/conda/lib/python3.9/site-packages (2.8.0)\n",
      "Requirement already satisfied: six>=1.12.0 in /opt/conda/lib/python3.9/site-packages (from tensorflow) (1.16.0)\n",
      "Requirement already satisfied: protobuf>=3.9.2 in /opt/conda/lib/python3.9/site-packages (from tensorflow) (3.19.3)\n",
      "Requirement already satisfied: tensorflow-io-gcs-filesystem>=0.23.1 in /opt/conda/lib/python3.9/site-packages (from tensorflow) (0.24.0)\n",
      "Requirement already satisfied: libclang>=9.0.1 in /opt/conda/lib/python3.9/site-packages (from tensorflow) (13.0.0)\n",
      "Requirement already satisfied: wrapt>=1.11.0 in /opt/conda/lib/python3.9/site-packages (from tensorflow) (1.13.3)\n",
      "Requirement already satisfied: grpcio<2.0,>=1.24.3 in /opt/conda/lib/python3.9/site-packages (from tensorflow) (1.43.0)\n",
      "Requirement already satisfied: termcolor>=1.1.0 in /opt/conda/lib/python3.9/site-packages (from tensorflow) (1.1.0)\n",
      "Requirement already satisfied: google-pasta>=0.1.1 in /opt/conda/lib/python3.9/site-packages (from tensorflow) (0.2.0)\n",
      "Requirement already satisfied: h5py>=2.9.0 in /opt/conda/lib/python3.9/site-packages (from tensorflow) (3.6.0)\n",
      "Requirement already satisfied: flatbuffers>=1.12 in /opt/conda/lib/python3.9/site-packages (from tensorflow) (2.0)\n",
      "Requirement already satisfied: astunparse>=1.6.0 in /opt/conda/lib/python3.9/site-packages (from tensorflow) (1.6.3)\n",
      "Requirement already satisfied: numpy>=1.20 in /opt/conda/lib/python3.9/site-packages (from tensorflow) (1.21.5)\n",
      "Requirement already satisfied: tensorboard<2.9,>=2.8 in /opt/conda/lib/python3.9/site-packages (from tensorflow) (2.8.0)\n",
      "Requirement already satisfied: typing-extensions>=3.6.6 in /opt/conda/lib/python3.9/site-packages (from tensorflow) (4.0.1)\n",
      "Requirement already satisfied: keras<2.9,>=2.8.0rc0 in /opt/conda/lib/python3.9/site-packages (from tensorflow) (2.8.0)\n",
      "Requirement already satisfied: gast>=0.2.1 in /opt/conda/lib/python3.9/site-packages (from tensorflow) (0.5.3)\n",
      "Requirement already satisfied: opt-einsum>=2.3.2 in /opt/conda/lib/python3.9/site-packages (from tensorflow) (3.3.0)\n",
      "Requirement already satisfied: absl-py>=0.4.0 in /opt/conda/lib/python3.9/site-packages (from tensorflow) (1.0.0)\n",
      "Requirement already satisfied: setuptools in /opt/conda/lib/python3.9/site-packages (from tensorflow) (59.8.0)\n",
      "Requirement already satisfied: keras-preprocessing>=1.1.1 in /opt/conda/lib/python3.9/site-packages (from tensorflow) (1.1.2)\n",
      "Requirement already satisfied: tf-estimator-nightly==2.8.0.dev2021122109 in /opt/conda/lib/python3.9/site-packages (from tensorflow) (2.8.0.dev2021122109)\n",
      "Requirement already satisfied: wheel<1.0,>=0.23.0 in /opt/conda/lib/python3.9/site-packages (from astunparse>=1.6.0->tensorflow) (0.37.1)\n",
      "Requirement already satisfied: requests<3,>=2.21.0 in /opt/conda/lib/python3.9/site-packages (from tensorboard<2.9,>=2.8->tensorflow) (2.27.1)\n",
      "Requirement already satisfied: google-auth-oauthlib<0.5,>=0.4.1 in /opt/conda/lib/python3.9/site-packages (from tensorboard<2.9,>=2.8->tensorflow) (0.4.6)\n",
      "Requirement already satisfied: werkzeug>=0.11.15 in /opt/conda/lib/python3.9/site-packages (from tensorboard<2.9,>=2.8->tensorflow) (2.0.3)\n",
      "Requirement already satisfied: tensorboard-plugin-wit>=1.6.0 in /opt/conda/lib/python3.9/site-packages (from tensorboard<2.9,>=2.8->tensorflow) (1.8.1)\n",
      "Requirement already satisfied: markdown>=2.6.8 in /opt/conda/lib/python3.9/site-packages (from tensorboard<2.9,>=2.8->tensorflow) (3.3.6)\n",
      "Requirement already satisfied: google-auth<3,>=1.6.3 in /opt/conda/lib/python3.9/site-packages (from tensorboard<2.9,>=2.8->tensorflow) (2.6.0)\n",
      "Requirement already satisfied: tensorboard-data-server<0.7.0,>=0.6.0 in /opt/conda/lib/python3.9/site-packages (from tensorboard<2.9,>=2.8->tensorflow) (0.6.1)\n",
      "Requirement already satisfied: rsa<5,>=3.1.4 in /opt/conda/lib/python3.9/site-packages (from google-auth<3,>=1.6.3->tensorboard<2.9,>=2.8->tensorflow) (4.8)\n",
      "Requirement already satisfied: pyasn1-modules>=0.2.1 in /opt/conda/lib/python3.9/site-packages (from google-auth<3,>=1.6.3->tensorboard<2.9,>=2.8->tensorflow) (0.2.8)\n",
      "Requirement already satisfied: cachetools<6.0,>=2.0.0 in /opt/conda/lib/python3.9/site-packages (from google-auth<3,>=1.6.3->tensorboard<2.9,>=2.8->tensorflow) (5.0.0)\n",
      "Requirement already satisfied: requests-oauthlib>=0.7.0 in /opt/conda/lib/python3.9/site-packages (from google-auth-oauthlib<0.5,>=0.4.1->tensorboard<2.9,>=2.8->tensorflow) (1.3.1)\n",
      "Requirement already satisfied: importlib-metadata>=4.4 in /opt/conda/lib/python3.9/site-packages (from markdown>=2.6.8->tensorboard<2.9,>=2.8->tensorflow) (4.10.1)\n",
      "Requirement already satisfied: charset-normalizer~=2.0.0 in /opt/conda/lib/python3.9/site-packages (from requests<3,>=2.21.0->tensorboard<2.9,>=2.8->tensorflow) (2.0.10)\n",
      "Requirement already satisfied: idna<4,>=2.5 in /opt/conda/lib/python3.9/site-packages (from requests<3,>=2.21.0->tensorboard<2.9,>=2.8->tensorflow) (3.3)\n",
      "Requirement already satisfied: certifi>=2017.4.17 in /opt/conda/lib/python3.9/site-packages (from requests<3,>=2.21.0->tensorboard<2.9,>=2.8->tensorflow) (2021.10.8)\n",
      "Requirement already satisfied: urllib3<1.27,>=1.21.1 in /opt/conda/lib/python3.9/site-packages (from requests<3,>=2.21.0->tensorboard<2.9,>=2.8->tensorflow) (1.26.8)\n",
      "Requirement already satisfied: zipp>=0.5 in /opt/conda/lib/python3.9/site-packages (from importlib-metadata>=4.4->markdown>=2.6.8->tensorboard<2.9,>=2.8->tensorflow) (3.7.0)\n",
      "Requirement already satisfied: pyasn1<0.5.0,>=0.4.6 in /opt/conda/lib/python3.9/site-packages (from pyasn1-modules>=0.2.1->google-auth<3,>=1.6.3->tensorboard<2.9,>=2.8->tensorflow) (0.4.8)\n",
      "Requirement already satisfied: oauthlib>=3.0.0 in /opt/conda/lib/python3.9/site-packages (from requests-oauthlib>=0.7.0->google-auth-oauthlib<0.5,>=0.4.1->tensorboard<2.9,>=2.8->tensorflow) (3.1.1)\n"
     ]
    }
   ],
   "source": [
    "# TensorFlow installation\n",
    "!pip install tensorflow"
   ]
  },
  {
   "cell_type": "markdown",
   "metadata": {},
   "source": [
    "## 2.Exploratory Data Analysis"
   ]
  },
  {
   "cell_type": "markdown",
   "metadata": {},
   "source": [
    "### 2.1 Import librairies"
   ]
  },
  {
   "cell_type": "code",
   "execution_count": 3,
   "metadata": {},
   "outputs": [
    {
     "name": "stderr",
     "output_type": "stream",
     "text": [
      "2022-02-17 09:05:57.884829: W tensorflow/stream_executor/platform/default/dso_loader.cc:64] Could not load dynamic library 'libcudart.so.11.0'; dlerror: libcudart.so.11.0: cannot open shared object file: No such file or directory\n",
      "2022-02-17 09:05:57.884954: I tensorflow/stream_executor/cuda/cudart_stub.cc:29] Ignore above cudart dlerror if you do not have a GPU set up on your machine.\n"
     ]
    }
   ],
   "source": [
    "#import librairies\n",
    "import pandas as pd\n",
    "import re\n",
    "from spacy.lang.en.stop_words import STOP_WORDS\n",
    "import warnings\n",
    "warnings.filterwarnings(\"ignore\")\n",
    "\n",
    "#Libraries for visualisation\n",
    "import seaborn as sns\n",
    "import matplotlib.pyplot as plt\n",
    "\n",
    "#Library for Splitting Dataset\n",
    "from sklearn.model_selection import train_test_split\n",
    "\n",
    "#Deep learning\n",
    "import tensorflow as tf\n",
    "from tensorflow.keras import optimizers\n",
    "from tensorflow.keras.models import Sequential\n",
    "from tensorflow.keras.preprocessing.text import Tokenizer\n",
    "from tensorflow.keras.preprocessing.sequence import pad_sequences\n",
    "from tensorflow.keras.layers import Embedding, LSTM, GRU, Bidirectional, Dense, Dropout, Conv1D, GlobalMaxPool1D\n"
   ]
  },
  {
   "cell_type": "markdown",
   "metadata": {},
   "source": [
    "### 2.2 Import Datasets"
   ]
  },
  {
   "cell_type": "code",
   "execution_count": 4,
   "metadata": {},
   "outputs": [
    {
     "data": {
      "text/html": [
       "<div>\n",
       "<style scoped>\n",
       "    .dataframe tbody tr th:only-of-type {\n",
       "        vertical-align: middle;\n",
       "    }\n",
       "\n",
       "    .dataframe tbody tr th {\n",
       "        vertical-align: top;\n",
       "    }\n",
       "\n",
       "    .dataframe thead th {\n",
       "        text-align: right;\n",
       "    }\n",
       "</style>\n",
       "<table border=\"1\" class=\"dataframe\">\n",
       "  <thead>\n",
       "    <tr style=\"text-align: right;\">\n",
       "      <th></th>\n",
       "      <th>id</th>\n",
       "      <th>keyword</th>\n",
       "      <th>location</th>\n",
       "      <th>text</th>\n",
       "      <th>target</th>\n",
       "    </tr>\n",
       "  </thead>\n",
       "  <tbody>\n",
       "    <tr>\n",
       "      <th>3169</th>\n",
       "      <td>4548</td>\n",
       "      <td>emergency%20plan</td>\n",
       "      <td>Antioch, CA</td>\n",
       "      <td>4 Printable Emergency Plan Templates\\nhttp://t...</td>\n",
       "      <td>0</td>\n",
       "    </tr>\n",
       "    <tr>\n",
       "      <th>5247</th>\n",
       "      <td>7503</td>\n",
       "      <td>oil%20spill</td>\n",
       "      <td>California</td>\n",
       "      <td>Refugio oil spill may have been costlier bigge...</td>\n",
       "      <td>1</td>\n",
       "    </tr>\n",
       "    <tr>\n",
       "      <th>2001</th>\n",
       "      <td>2877</td>\n",
       "      <td>damage</td>\n",
       "      <td>Marysville, MI</td>\n",
       "      <td>Let's say a tree falls on your fence. Do you k...</td>\n",
       "      <td>0</td>\n",
       "    </tr>\n",
       "    <tr>\n",
       "      <th>2557</th>\n",
       "      <td>3666</td>\n",
       "      <td>destroy</td>\n",
       "      <td>UK</td>\n",
       "      <td>#YIAYplan Use my awesome collection of Amiibos...</td>\n",
       "      <td>0</td>\n",
       "    </tr>\n",
       "    <tr>\n",
       "      <th>6079</th>\n",
       "      <td>8685</td>\n",
       "      <td>sinkhole</td>\n",
       "      <td>ÌÏT: 42.910975,-78.865828</td>\n",
       "      <td>Does that sewer look like it's sinking to you?...</td>\n",
       "      <td>0</td>\n",
       "    </tr>\n",
       "  </tbody>\n",
       "</table>\n",
       "</div>"
      ],
      "text/plain": [
       "        id           keyword                   location  \\\n",
       "3169  4548  emergency%20plan               Antioch, CA    \n",
       "5247  7503       oil%20spill                 California   \n",
       "2001  2877            damage             Marysville, MI   \n",
       "2557  3666           destroy                         UK   \n",
       "6079  8685          sinkhole  ÌÏT: 42.910975,-78.865828   \n",
       "\n",
       "                                                   text  target  \n",
       "3169  4 Printable Emergency Plan Templates\\nhttp://t...       0  \n",
       "5247  Refugio oil spill may have been costlier bigge...       1  \n",
       "2001  Let's say a tree falls on your fence. Do you k...       0  \n",
       "2557  #YIAYplan Use my awesome collection of Amiibos...       0  \n",
       "6079  Does that sewer look like it's sinking to you?...       0  "
      ]
     },
     "execution_count": 4,
     "metadata": {},
     "output_type": "execute_result"
    }
   ],
   "source": [
    "#import dataset\n",
    "df = pd.read_csv(\"src/train.csv\")\n",
    "df.sample(5)"
   ]
  },
  {
   "cell_type": "code",
   "execution_count": 5,
   "metadata": {
    "tags": []
   },
   "outputs": [
    {
     "name": "stdout",
     "output_type": "stream",
     "text": [
      "<class 'pandas.core.frame.DataFrame'>\n",
      "RangeIndex: 7613 entries, 0 to 7612\n",
      "Data columns (total 5 columns):\n",
      " #   Column    Non-Null Count  Dtype \n",
      "---  ------    --------------  ----- \n",
      " 0   id        7613 non-null   int64 \n",
      " 1   keyword   7552 non-null   object\n",
      " 2   location  5080 non-null   object\n",
      " 3   text      7613 non-null   object\n",
      " 4   target    7613 non-null   int64 \n",
      "dtypes: int64(2), object(3)\n",
      "memory usage: 297.5+ KB\n"
     ]
    }
   ],
   "source": [
    "df.info()"
   ]
  },
  {
   "cell_type": "markdown",
   "metadata": {},
   "source": [
    "### 2.3 Target Identification"
   ]
  },
  {
   "cell_type": "code",
   "execution_count": 6,
   "metadata": {},
   "outputs": [
    {
     "data": {
      "text/plain": [
       "0    4342\n",
       "1    3271\n",
       "Name: target, dtype: int64"
      ]
     },
     "execution_count": 6,
     "metadata": {},
     "output_type": "execute_result"
    }
   ],
   "source": [
    "#Target Distributions\n",
    "df['target'].value_counts()"
   ]
  },
  {
   "cell_type": "code",
   "execution_count": 7,
   "metadata": {},
   "outputs": [
    {
     "data": {
      "text/plain": [
       "15                                         What's up man?\n",
       "16                                          I love fruits\n",
       "17                                       Summer is lovely\n",
       "18                                      My car is so fast\n",
       "19                           What a goooooooaaaaaal!!!!!!\n",
       "                              ...                        \n",
       "7581    @engineshed Great atmosphere at the British Li...\n",
       "7582    Cramer: Iger's 3 words that wrecked Disney's s...\n",
       "7584    These boxes are ready to explode! Exploding Ki...\n",
       "7587                                   Sirens everywhere!\n",
       "7593    I just heard a really loud bang and everyone i...\n",
       "Name: text, Length: 4342, dtype: object"
      ]
     },
     "execution_count": 7,
     "metadata": {},
     "output_type": "execute_result"
    }
   ],
   "source": [
    "#Target == 0\n",
    "df['text'][df['target']==0]"
   ]
  },
  {
   "cell_type": "code",
   "execution_count": 8,
   "metadata": {},
   "outputs": [
    {
     "data": {
      "text/plain": [
       "0       Our Deeds are the Reason of this #earthquake M...\n",
       "1                  Forest fire near La Ronge Sask. Canada\n",
       "2       All residents asked to 'shelter in place' are ...\n",
       "3       13,000 people receive #wildfires evacuation or...\n",
       "4       Just got sent this photo from Ruby #Alaska as ...\n",
       "                              ...                        \n",
       "7608    Two giant cranes holding a bridge collapse int...\n",
       "7609    @aria_ahrary @TheTawniest The out of control w...\n",
       "7610    M1.94 [01:04 UTC]?5km S of Volcano Hawaii. htt...\n",
       "7611    Police investigating after an e-bike collided ...\n",
       "7612    The Latest: More Homes Razed by Northern Calif...\n",
       "Name: text, Length: 3271, dtype: object"
      ]
     },
     "execution_count": 8,
     "metadata": {},
     "output_type": "execute_result"
    }
   ],
   "source": [
    "#Target == 1\n",
    "df['text'][df['target']==1]"
   ]
  },
  {
   "cell_type": "code",
   "execution_count": 9,
   "metadata": {},
   "outputs": [
    {
     "data": {
      "text/plain": [
       "Text(0.5, 1.0, 'Target Distributions \\n (0: Non Disaster || 1: Disaster)')"
      ]
     },
     "execution_count": 9,
     "metadata": {},
     "output_type": "execute_result"
    },
    {
     "data": {
      "image/png": "[encoded data removed]",
      "text/plain": [
       "<Figure size 360x216 with 1 Axes>"
      ]
     },
     "metadata": {
      "needs_background": "light"
     },
     "output_type": "display_data"
    }
   ],
   "source": [
    "#0: Non Disaster\n",
    "#1: Disaster\n",
    "\n",
    "plt.figure(figsize=(5,3))\n",
    "colors = [\"blue\", \"red\"]\n",
    "\n",
    "sns.countplot(x = 'target', data=df, palette=colors)\n",
    "plt.title('Target Distributions \\n (0: Non Disaster || 1: Disaster)', fontsize=14)"
   ]
  },
  {
   "cell_type": "markdown",
   "metadata": {},
   "source": [
    "## 3.Text Preprocessing"
   ]
  },
  {
   "cell_type": "code",
   "execution_count": 10,
   "metadata": {},
   "outputs": [
    {
     "data": {
      "text/html": [
       "<div>\n",
       "<style scoped>\n",
       "    .dataframe tbody tr th:only-of-type {\n",
       "        vertical-align: middle;\n",
       "    }\n",
       "\n",
       "    .dataframe tbody tr th {\n",
       "        vertical-align: top;\n",
       "    }\n",
       "\n",
       "    .dataframe thead th {\n",
       "        text-align: right;\n",
       "    }\n",
       "</style>\n",
       "<table border=\"1\" class=\"dataframe\">\n",
       "  <thead>\n",
       "    <tr style=\"text-align: right;\">\n",
       "      <th></th>\n",
       "      <th>id</th>\n",
       "      <th>text</th>\n",
       "      <th>target</th>\n",
       "    </tr>\n",
       "  </thead>\n",
       "  <tbody>\n",
       "    <tr>\n",
       "      <th>6499</th>\n",
       "      <td>9292</td>\n",
       "      <td>Hank Williams Jr. - 'Country Boys Can Survive'...</td>\n",
       "      <td>0</td>\n",
       "    </tr>\n",
       "    <tr>\n",
       "      <th>3386</th>\n",
       "      <td>4848</td>\n",
       "      <td>ÛÏA voluntary evacuation is being recommended...</td>\n",
       "      <td>1</td>\n",
       "    </tr>\n",
       "    <tr>\n",
       "      <th>7146</th>\n",
       "      <td>10241</td>\n",
       "      <td>Brian Shaw + J.J. Hickson + Kenneth Faried try...</td>\n",
       "      <td>0</td>\n",
       "    </tr>\n",
       "    <tr>\n",
       "      <th>7192</th>\n",
       "      <td>10304</td>\n",
       "      <td>Iranian warship points weapon at U.S. helicopt...</td>\n",
       "      <td>1</td>\n",
       "    </tr>\n",
       "    <tr>\n",
       "      <th>3749</th>\n",
       "      <td>5326</td>\n",
       "      <td>I See Fire</td>\n",
       "      <td>0</td>\n",
       "    </tr>\n",
       "  </tbody>\n",
       "</table>\n",
       "</div>"
      ],
      "text/plain": [
       "         id                                               text  target\n",
       "6499   9292  Hank Williams Jr. - 'Country Boys Can Survive'...       0\n",
       "3386   4848  ÛÏA voluntary evacuation is being recommended...       1\n",
       "7146  10241  Brian Shaw + J.J. Hickson + Kenneth Faried try...       0\n",
       "7192  10304  Iranian warship points weapon at U.S. helicopt...       1\n",
       "3749   5326                                         I See Fire       0"
      ]
     },
     "execution_count": 10,
     "metadata": {},
     "output_type": "execute_result"
    }
   ],
   "source": [
    "df = df[['id','text','target']]\n",
    "df.sample(5)"
   ]
  },
  {
   "cell_type": "markdown",
   "metadata": {},
   "source": [
    "### 3.1 Remove punctuation digits in text"
   ]
  },
  {
   "cell_type": "code",
   "execution_count": 11,
   "metadata": {},
   "outputs": [],
   "source": [
    "#remove punctuation digits in text\n",
    "def text_clean(text):\n",
    "  text = text.lower()\n",
    "  text = text.replace(\"'\",\" \")\n",
    "  text = re.sub(r'<.*?>', '', text)         # remove html tags\n",
    "  text = re.sub(r'https?://\\S+', '', text)  # remove link\n",
    "  text = re.sub(r'[0-9,.]+', '', text)      # remove digits\n",
    "  text = re.sub(r'@\\S+', '', text)          # remove tweeted at\n",
    "  text = re.sub('\\s+', ' ', text).strip()   # remove leading, trailing, and extra spaces\n",
    "  text = re.sub(r'[^\\w\\s]','',text)         # remove punctuation\n",
    " \n",
    "  return text"
   ]
  },
  {
   "cell_type": "code",
   "execution_count": 12,
   "metadata": {},
   "outputs": [
    {
     "data": {
      "text/html": [
       "<div>\n",
       "<style scoped>\n",
       "    .dataframe tbody tr th:only-of-type {\n",
       "        vertical-align: middle;\n",
       "    }\n",
       "\n",
       "    .dataframe tbody tr th {\n",
       "        vertical-align: top;\n",
       "    }\n",
       "\n",
       "    .dataframe thead th {\n",
       "        text-align: right;\n",
       "    }\n",
       "</style>\n",
       "<table border=\"1\" class=\"dataframe\">\n",
       "  <thead>\n",
       "    <tr style=\"text-align: right;\">\n",
       "      <th></th>\n",
       "      <th>id</th>\n",
       "      <th>text</th>\n",
       "      <th>target</th>\n",
       "      <th>clean_text</th>\n",
       "    </tr>\n",
       "  </thead>\n",
       "  <tbody>\n",
       "    <tr>\n",
       "      <th>0</th>\n",
       "      <td>1</td>\n",
       "      <td>Our Deeds are the Reason of this #earthquake M...</td>\n",
       "      <td>1</td>\n",
       "      <td>our deeds are the reason of this earthquake ma...</td>\n",
       "    </tr>\n",
       "    <tr>\n",
       "      <th>1</th>\n",
       "      <td>4</td>\n",
       "      <td>Forest fire near La Ronge Sask. Canada</td>\n",
       "      <td>1</td>\n",
       "      <td>forest fire near la ronge sask canada</td>\n",
       "    </tr>\n",
       "    <tr>\n",
       "      <th>2</th>\n",
       "      <td>5</td>\n",
       "      <td>All residents asked to 'shelter in place' are ...</td>\n",
       "      <td>1</td>\n",
       "      <td>all residents asked to shelter in place are be...</td>\n",
       "    </tr>\n",
       "    <tr>\n",
       "      <th>3</th>\n",
       "      <td>6</td>\n",
       "      <td>13,000 people receive #wildfires evacuation or...</td>\n",
       "      <td>1</td>\n",
       "      <td>people receive wildfires evacuation orders in ...</td>\n",
       "    </tr>\n",
       "    <tr>\n",
       "      <th>4</th>\n",
       "      <td>7</td>\n",
       "      <td>Just got sent this photo from Ruby #Alaska as ...</td>\n",
       "      <td>1</td>\n",
       "      <td>just got sent this photo from ruby alaska as s...</td>\n",
       "    </tr>\n",
       "    <tr>\n",
       "      <th>...</th>\n",
       "      <td>...</td>\n",
       "      <td>...</td>\n",
       "      <td>...</td>\n",
       "      <td>...</td>\n",
       "    </tr>\n",
       "    <tr>\n",
       "      <th>7608</th>\n",
       "      <td>10869</td>\n",
       "      <td>Two giant cranes holding a bridge collapse int...</td>\n",
       "      <td>1</td>\n",
       "      <td>two giant cranes holding a bridge collapse int...</td>\n",
       "    </tr>\n",
       "    <tr>\n",
       "      <th>7609</th>\n",
       "      <td>10870</td>\n",
       "      <td>@aria_ahrary @TheTawniest The out of control w...</td>\n",
       "      <td>1</td>\n",
       "      <td>the out of control wild fires in california ev...</td>\n",
       "    </tr>\n",
       "    <tr>\n",
       "      <th>7610</th>\n",
       "      <td>10871</td>\n",
       "      <td>M1.94 [01:04 UTC]?5km S of Volcano Hawaii. htt...</td>\n",
       "      <td>1</td>\n",
       "      <td>m  utckm s of volcano hawaii</td>\n",
       "    </tr>\n",
       "    <tr>\n",
       "      <th>7611</th>\n",
       "      <td>10872</td>\n",
       "      <td>Police investigating after an e-bike collided ...</td>\n",
       "      <td>1</td>\n",
       "      <td>police investigating after an ebike collided w...</td>\n",
       "    </tr>\n",
       "    <tr>\n",
       "      <th>7612</th>\n",
       "      <td>10873</td>\n",
       "      <td>The Latest: More Homes Razed by Northern Calif...</td>\n",
       "      <td>1</td>\n",
       "      <td>the latest more homes razed by northern califo...</td>\n",
       "    </tr>\n",
       "  </tbody>\n",
       "</table>\n",
       "<p>7613 rows × 4 columns</p>\n",
       "</div>"
      ],
      "text/plain": [
       "         id                                               text  target  \\\n",
       "0         1  Our Deeds are the Reason of this #earthquake M...       1   \n",
       "1         4             Forest fire near La Ronge Sask. Canada       1   \n",
       "2         5  All residents asked to 'shelter in place' are ...       1   \n",
       "3         6  13,000 people receive #wildfires evacuation or...       1   \n",
       "4         7  Just got sent this photo from Ruby #Alaska as ...       1   \n",
       "...     ...                                                ...     ...   \n",
       "7608  10869  Two giant cranes holding a bridge collapse int...       1   \n",
       "7609  10870  @aria_ahrary @TheTawniest The out of control w...       1   \n",
       "7610  10871  M1.94 [01:04 UTC]?5km S of Volcano Hawaii. htt...       1   \n",
       "7611  10872  Police investigating after an e-bike collided ...       1   \n",
       "7612  10873  The Latest: More Homes Razed by Northern Calif...       1   \n",
       "\n",
       "                                             clean_text  \n",
       "0     our deeds are the reason of this earthquake ma...  \n",
       "1                 forest fire near la ronge sask canada  \n",
       "2     all residents asked to shelter in place are be...  \n",
       "3     people receive wildfires evacuation orders in ...  \n",
       "4     just got sent this photo from ruby alaska as s...  \n",
       "...                                                 ...  \n",
       "7608  two giant cranes holding a bridge collapse int...  \n",
       "7609  the out of control wild fires in california ev...  \n",
       "7610                       m  utckm s of volcano hawaii  \n",
       "7611  police investigating after an ebike collided w...  \n",
       "7612  the latest more homes razed by northern califo...  \n",
       "\n",
       "[7613 rows x 4 columns]"
      ]
     },
     "execution_count": 12,
     "metadata": {},
     "output_type": "execute_result"
    }
   ],
   "source": [
    "df['clean_text'] = df['text'].apply(text_clean)\n",
    "df"
   ]
  },
  {
   "cell_type": "markdown",
   "metadata": {},
   "source": [
    "### 3.2 Remove Stopwords"
   ]
  },
  {
   "cell_type": "code",
   "execution_count": 13,
   "metadata": {},
   "outputs": [],
   "source": [
    "#remove stopwords\n",
    "def remove_stopwords(text):\n",
    "    return ' '.join([word for word in text.split() if word not in STOP_WORDS])"
   ]
  },
  {
   "cell_type": "code",
   "execution_count": 14,
   "metadata": {
    "tags": []
   },
   "outputs": [
    {
     "data": {
      "text/html": [
       "<div>\n",
       "<style scoped>\n",
       "    .dataframe tbody tr th:only-of-type {\n",
       "        vertical-align: middle;\n",
       "    }\n",
       "\n",
       "    .dataframe tbody tr th {\n",
       "        vertical-align: top;\n",
       "    }\n",
       "\n",
       "    .dataframe thead th {\n",
       "        text-align: right;\n",
       "    }\n",
       "</style>\n",
       "<table border=\"1\" class=\"dataframe\">\n",
       "  <thead>\n",
       "    <tr style=\"text-align: right;\">\n",
       "      <th></th>\n",
       "      <th>id</th>\n",
       "      <th>text</th>\n",
       "      <th>target</th>\n",
       "      <th>clean_text</th>\n",
       "      <th>clean_text_stopwords</th>\n",
       "    </tr>\n",
       "  </thead>\n",
       "  <tbody>\n",
       "    <tr>\n",
       "      <th>0</th>\n",
       "      <td>1</td>\n",
       "      <td>Our Deeds are the Reason of this #earthquake M...</td>\n",
       "      <td>1</td>\n",
       "      <td>our deeds are the reason of this earthquake ma...</td>\n",
       "      <td>deeds reason earthquake allah forgive</td>\n",
       "    </tr>\n",
       "    <tr>\n",
       "      <th>1</th>\n",
       "      <td>4</td>\n",
       "      <td>Forest fire near La Ronge Sask. Canada</td>\n",
       "      <td>1</td>\n",
       "      <td>forest fire near la ronge sask canada</td>\n",
       "      <td>forest fire near la ronge sask canada</td>\n",
       "    </tr>\n",
       "    <tr>\n",
       "      <th>2</th>\n",
       "      <td>5</td>\n",
       "      <td>All residents asked to 'shelter in place' are ...</td>\n",
       "      <td>1</td>\n",
       "      <td>all residents asked to shelter in place are be...</td>\n",
       "      <td>residents asked shelter place notified officer...</td>\n",
       "    </tr>\n",
       "    <tr>\n",
       "      <th>3</th>\n",
       "      <td>6</td>\n",
       "      <td>13,000 people receive #wildfires evacuation or...</td>\n",
       "      <td>1</td>\n",
       "      <td>people receive wildfires evacuation orders in ...</td>\n",
       "      <td>people receive wildfires evacuation orders cal...</td>\n",
       "    </tr>\n",
       "    <tr>\n",
       "      <th>4</th>\n",
       "      <td>7</td>\n",
       "      <td>Just got sent this photo from Ruby #Alaska as ...</td>\n",
       "      <td>1</td>\n",
       "      <td>just got sent this photo from ruby alaska as s...</td>\n",
       "      <td>got sent photo ruby alaska smoke wildfires pou...</td>\n",
       "    </tr>\n",
       "    <tr>\n",
       "      <th>...</th>\n",
       "      <td>...</td>\n",
       "      <td>...</td>\n",
       "      <td>...</td>\n",
       "      <td>...</td>\n",
       "      <td>...</td>\n",
       "    </tr>\n",
       "    <tr>\n",
       "      <th>7608</th>\n",
       "      <td>10869</td>\n",
       "      <td>Two giant cranes holding a bridge collapse int...</td>\n",
       "      <td>1</td>\n",
       "      <td>two giant cranes holding a bridge collapse int...</td>\n",
       "      <td>giant cranes holding bridge collapse nearby homes</td>\n",
       "    </tr>\n",
       "    <tr>\n",
       "      <th>7609</th>\n",
       "      <td>10870</td>\n",
       "      <td>@aria_ahrary @TheTawniest The out of control w...</td>\n",
       "      <td>1</td>\n",
       "      <td>the out of control wild fires in california ev...</td>\n",
       "      <td>control wild fires california northern state t...</td>\n",
       "    </tr>\n",
       "    <tr>\n",
       "      <th>7610</th>\n",
       "      <td>10871</td>\n",
       "      <td>M1.94 [01:04 UTC]?5km S of Volcano Hawaii. htt...</td>\n",
       "      <td>1</td>\n",
       "      <td>m  utckm s of volcano hawaii</td>\n",
       "      <td>m utckm s volcano hawaii</td>\n",
       "    </tr>\n",
       "    <tr>\n",
       "      <th>7611</th>\n",
       "      <td>10872</td>\n",
       "      <td>Police investigating after an e-bike collided ...</td>\n",
       "      <td>1</td>\n",
       "      <td>police investigating after an ebike collided w...</td>\n",
       "      <td>police investigating ebike collided car little...</td>\n",
       "    </tr>\n",
       "    <tr>\n",
       "      <th>7612</th>\n",
       "      <td>10873</td>\n",
       "      <td>The Latest: More Homes Razed by Northern Calif...</td>\n",
       "      <td>1</td>\n",
       "      <td>the latest more homes razed by northern califo...</td>\n",
       "      <td>latest homes razed northern california wildfir...</td>\n",
       "    </tr>\n",
       "  </tbody>\n",
       "</table>\n",
       "<p>7613 rows × 5 columns</p>\n",
       "</div>"
      ],
      "text/plain": [
       "         id                                               text  target  \\\n",
       "0         1  Our Deeds are the Reason of this #earthquake M...       1   \n",
       "1         4             Forest fire near La Ronge Sask. Canada       1   \n",
       "2         5  All residents asked to 'shelter in place' are ...       1   \n",
       "3         6  13,000 people receive #wildfires evacuation or...       1   \n",
       "4         7  Just got sent this photo from Ruby #Alaska as ...       1   \n",
       "...     ...                                                ...     ...   \n",
       "7608  10869  Two giant cranes holding a bridge collapse int...       1   \n",
       "7609  10870  @aria_ahrary @TheTawniest The out of control w...       1   \n",
       "7610  10871  M1.94 [01:04 UTC]?5km S of Volcano Hawaii. htt...       1   \n",
       "7611  10872  Police investigating after an e-bike collided ...       1   \n",
       "7612  10873  The Latest: More Homes Razed by Northern Calif...       1   \n",
       "\n",
       "                                             clean_text  \\\n",
       "0     our deeds are the reason of this earthquake ma...   \n",
       "1                 forest fire near la ronge sask canada   \n",
       "2     all residents asked to shelter in place are be...   \n",
       "3     people receive wildfires evacuation orders in ...   \n",
       "4     just got sent this photo from ruby alaska as s...   \n",
       "...                                                 ...   \n",
       "7608  two giant cranes holding a bridge collapse int...   \n",
       "7609  the out of control wild fires in california ev...   \n",
       "7610                       m  utckm s of volcano hawaii   \n",
       "7611  police investigating after an ebike collided w...   \n",
       "7612  the latest more homes razed by northern califo...   \n",
       "\n",
       "                                   clean_text_stopwords  \n",
       "0                 deeds reason earthquake allah forgive  \n",
       "1                 forest fire near la ronge sask canada  \n",
       "2     residents asked shelter place notified officer...  \n",
       "3     people receive wildfires evacuation orders cal...  \n",
       "4     got sent photo ruby alaska smoke wildfires pou...  \n",
       "...                                                 ...  \n",
       "7608  giant cranes holding bridge collapse nearby homes  \n",
       "7609  control wild fires california northern state t...  \n",
       "7610                           m utckm s volcano hawaii  \n",
       "7611  police investigating ebike collided car little...  \n",
       "7612  latest homes razed northern california wildfir...  \n",
       "\n",
       "[7613 rows x 5 columns]"
      ]
     },
     "execution_count": 14,
     "metadata": {},
     "output_type": "execute_result"
    }
   ],
   "source": [
    "df['clean_text_stopwords'] = df['clean_text'].apply(remove_stopwords)\n",
    "df"
   ]
  },
  {
   "cell_type": "markdown",
   "metadata": {},
   "source": [
    "### 3.3 Tokenization"
   ]
  },
  {
   "cell_type": "code",
   "execution_count": 15,
   "metadata": {},
   "outputs": [
    {
     "data": {
      "text/plain": [
       "<keras_preprocessing.text.Tokenizer at 0x7f81c477f8b0>"
      ]
     },
     "execution_count": 15,
     "metadata": {},
     "output_type": "execute_result"
    }
   ],
   "source": [
    "# create a tokenizer instance\n",
    "tokenizer = tf.keras.preprocessing.text.Tokenizer()\n",
    "tokenizer"
   ]
  },
  {
   "cell_type": "code",
   "execution_count": 16,
   "metadata": {},
   "outputs": [],
   "source": [
    "#Fit the tokenizer on your texts\n",
    "tokenizer.fit_on_texts(df['clean_text_stopwords'])"
   ]
  },
  {
   "cell_type": "code",
   "execution_count": 17,
   "metadata": {
    "tags": []
   },
   "outputs": [],
   "source": [
    "#tokenizer.word_index"
   ]
  },
  {
   "cell_type": "code",
   "execution_count": 18,
   "metadata": {},
   "outputs": [
    {
     "data": {
      "text/html": [
       "<div>\n",
       "<style scoped>\n",
       "    .dataframe tbody tr th:only-of-type {\n",
       "        vertical-align: middle;\n",
       "    }\n",
       "\n",
       "    .dataframe tbody tr th {\n",
       "        vertical-align: top;\n",
       "    }\n",
       "\n",
       "    .dataframe thead th {\n",
       "        text-align: right;\n",
       "    }\n",
       "</style>\n",
       "<table border=\"1\" class=\"dataframe\">\n",
       "  <thead>\n",
       "    <tr style=\"text-align: right;\">\n",
       "      <th></th>\n",
       "      <th>id</th>\n",
       "      <th>text</th>\n",
       "      <th>target</th>\n",
       "      <th>clean_text</th>\n",
       "      <th>clean_text_stopwords</th>\n",
       "      <th>token_encoded</th>\n",
       "    </tr>\n",
       "  </thead>\n",
       "  <tbody>\n",
       "    <tr>\n",
       "      <th>6641</th>\n",
       "      <td>9509</td>\n",
       "      <td>@rahulkanwal why  Jammu is soft target for ter...</td>\n",
       "      <td>1</td>\n",
       "      <td>why jammu is soft target for terrorist</td>\n",
       "      <td>jammu soft target terrorist</td>\n",
       "      <td>[13621, 4460, 1472, 203]</td>\n",
       "    </tr>\n",
       "    <tr>\n",
       "      <th>7023</th>\n",
       "      <td>10067</td>\n",
       "      <td>Obama Declares Disaster for Typhoon-Devastated...</td>\n",
       "      <td>1</td>\n",
       "      <td>obama declares disaster for typhoondevastated ...</td>\n",
       "      <td>obama declares disaster typhoondevastated saip...</td>\n",
       "      <td>[80, 480, 13, 533, 534, 80, 576, 13, 715, 79, ...</td>\n",
       "    </tr>\n",
       "    <tr>\n",
       "      <th>2563</th>\n",
       "      <td>3676</td>\n",
       "      <td>@SarniamakChris @Hromadske @kasiadear33  how s...</td>\n",
       "      <td>1</td>\n",
       "      <td>how silly that one of only two countries that ...</td>\n",
       "      <td>silly countries destroy world world security</td>\n",
       "      <td>[9098, 2257, 189, 29, 29, 392]</td>\n",
       "    </tr>\n",
       "    <tr>\n",
       "      <th>2248</th>\n",
       "      <td>3218</td>\n",
       "      <td>Businesses are deluged with invoices. Make you...</td>\n",
       "      <td>0</td>\n",
       "      <td>businesses are deluged with invoices make your...</td>\n",
       "      <td>businesses deluged invoices stand colour shape...</td>\n",
       "      <td>[846, 504, 1586, 623, 1284, 1111, 1, 845, 8666...</td>\n",
       "    </tr>\n",
       "    <tr>\n",
       "      <th>6939</th>\n",
       "      <td>9950</td>\n",
       "      <td>@PrinceofFencing frickin summer and its humidi...</td>\n",
       "      <td>0</td>\n",
       "      <td>frickin summer and its humidity building up an...</td>\n",
       "      <td>frickin summer humidity building causing trouble</td>\n",
       "      <td>[13938, 166, 2940, 407, 1100, 333]</td>\n",
       "    </tr>\n",
       "  </tbody>\n",
       "</table>\n",
       "</div>"
      ],
      "text/plain": [
       "         id                                               text  target  \\\n",
       "6641   9509  @rahulkanwal why  Jammu is soft target for ter...       1   \n",
       "7023  10067  Obama Declares Disaster for Typhoon-Devastated...       1   \n",
       "2563   3676  @SarniamakChris @Hromadske @kasiadear33  how s...       1   \n",
       "2248   3218  Businesses are deluged with invoices. Make you...       0   \n",
       "6939   9950  @PrinceofFencing frickin summer and its humidi...       0   \n",
       "\n",
       "                                             clean_text  \\\n",
       "6641             why jammu is soft target for terrorist   \n",
       "7023  obama declares disaster for typhoondevastated ...   \n",
       "2563  how silly that one of only two countries that ...   \n",
       "2248  businesses are deluged with invoices make your...   \n",
       "6939  frickin summer and its humidity building up an...   \n",
       "\n",
       "                                   clean_text_stopwords  \\\n",
       "6641                        jammu soft target terrorist   \n",
       "7023  obama declares disaster typhoondevastated saip...   \n",
       "2563       silly countries destroy world world security   \n",
       "2248  businesses deluged invoices stand colour shape...   \n",
       "6939   frickin summer humidity building causing trouble   \n",
       "\n",
       "                                          token_encoded  \n",
       "6641                           [13621, 4460, 1472, 203]  \n",
       "7023  [80, 480, 13, 533, 534, 80, 576, 13, 715, 79, ...  \n",
       "2563                     [9098, 2257, 189, 29, 29, 392]  \n",
       "2248  [846, 504, 1586, 623, 1284, 1111, 1, 845, 8666...  \n",
       "6939                 [13938, 166, 2940, 407, 1100, 333]  "
      ]
     },
     "execution_count": 18,
     "metadata": {},
     "output_type": "execute_result"
    }
   ],
   "source": [
    "# Now encode your texts using `texts_to_sequences` and store the result in a new column of the DataFrame.\n",
    "df['token_encoded'] = tokenizer.texts_to_sequences(df['clean_text_stopwords'])\n",
    "df.sample(5)"
   ]
  },
  {
   "cell_type": "code",
   "execution_count": 19,
   "metadata": {},
   "outputs": [
    {
     "name": "stdout",
     "output_type": "stream",
     "text": [
      "vocab_size :  14644\n",
      "sequence_length :  21\n"
     ]
    }
   ],
   "source": [
    "# Define the vocabulary size and number of words in a sequence\n",
    "vocab_size = len(list(set(' '.join([x for x in df.clean_text_stopwords.values]).split())))\n",
    "print('vocab_size : ', vocab_size)\n",
    "\n",
    "# length of the longest tokenized tweet : \n",
    "sequence_length = max([len(x.split()) for x in df.clean_text_stopwords])\n",
    "print('sequence_length : ', sequence_length)"
   ]
  },
  {
   "cell_type": "markdown",
   "metadata": {},
   "source": [
    "### 3.4 Padding"
   ]
  },
  {
   "cell_type": "code",
   "execution_count": 20,
   "metadata": {},
   "outputs": [
    {
     "data": {
      "text/plain": [
       "array([[4055,  638,  119, ...,    0,    0,    0],\n",
       "       [  76,    6,  106, ...,    0,    0,    0],\n",
       "       [1448, 1330, 1816, ...,    0,    0,    0],\n",
       "       ...,\n",
       "       [   5, 3763,    1, ...,    0,    0,    0],\n",
       "       [  14,  891, 2803, ...,    0,    0,    0],\n",
       "       [  91,   87,  375, ...,    0,    0,    0]], dtype=int32)"
      ]
     },
     "execution_count": 20,
     "metadata": {},
     "output_type": "execute_result"
    }
   ],
   "source": [
    "#Padding\n",
    "df_pad = tf.keras.preprocessing.sequence.pad_sequences(df.token_encoded, maxlen=sequence_length, padding=\"post\")\n",
    "df_pad"
   ]
  },
  {
   "cell_type": "markdown",
   "metadata": {},
   "source": [
    "### 3.5 Create the tensor dataset"
   ]
  },
  {
   "cell_type": "code",
   "execution_count": 21,
   "metadata": {
    "tags": []
   },
   "outputs": [
    {
     "name": "stderr",
     "output_type": "stream",
     "text": [
      "2022-02-17 09:07:10.595336: W tensorflow/stream_executor/platform/default/dso_loader.cc:64] Could not load dynamic library 'libcuda.so.1'; dlerror: libcuda.so.1: cannot open shared object file: No such file or directory\n",
      "2022-02-17 09:07:10.595419: W tensorflow/stream_executor/cuda/cuda_driver.cc:269] failed call to cuInit: UNKNOWN ERROR (303)\n",
      "2022-02-17 09:07:10.595504: I tensorflow/stream_executor/cuda/cuda_diagnostics.cc:156] kernel driver does not appear to be running on this host (jupyter-g-2eyang-40live-2efr): /proc/driver/nvidia/version does not exist\n",
      "2022-02-17 09:07:10.620976: I tensorflow/core/platform/cpu_feature_guard.cc:151] This TensorFlow binary is optimized with oneAPI Deep Neural Network Library (oneDNN) to use the following CPU instructions in performance-critical operations:  AVX2 FMA\n",
      "To enable them in other operations, rebuild TensorFlow with the appropriate compiler flags.\n"
     ]
    }
   ],
   "source": [
    "#Now that your sequences are padded create the tensor dataset\n",
    "all_encoded_data = tf.data.Dataset.from_tensor_slices((df_pad, df.target))"
   ]
  },
  {
   "cell_type": "markdown",
   "metadata": {},
   "source": [
    "### 3.5 Train Test Split Dataset"
   ]
  },
  {
   "cell_type": "code",
   "execution_count": 22,
   "metadata": {},
   "outputs": [],
   "source": [
    "TAKE_SIZE = int(len(df[\"target\"])*0.8)\n",
    "batch_size = 64\n",
    "\n",
    "#shuffle the data\n",
    "all_encoded_data = all_encoded_data.shuffle(len(df[\"target\"]))\n",
    "\n",
    "# Train Test Split\n",
    "train_data = all_encoded_data.take(TAKE_SIZE)\n",
    "train_data = train_data.batch(batch_size)\n",
    "\n",
    "test_data = all_encoded_data.skip(TAKE_SIZE)\n",
    "test_data = test_data.batch(batch_size)"
   ]
  },
  {
   "cell_type": "code",
   "execution_count": 23,
   "metadata": {},
   "outputs": [
    {
     "name": "stdout",
     "output_type": "stream",
     "text": [
      "(<tf.Tensor: shape=(64, 21), dtype=int32, numpy=\n",
      "array([[ 1718, 13445,    86, ...,     0,     0,     0],\n",
      "       [   60,   516,   125, ...,     0,     0,     0],\n",
      "       [   47,    61,     3, ...,     0,     0,     0],\n",
      "       ...,\n",
      "       [   10,  1226,  2309, ...,     0,     0,     0],\n",
      "       [ 3949,  3041,   206, ...,     0,     0,     0],\n",
      "       [  821, 14063,  6017, ...,     0,     0,     0]], dtype=int32)>, <tf.Tensor: shape=(64,), dtype=int64, numpy=\n",
      "array([1, 1, 1, 1, 0, 1, 0, 0, 1, 0, 1, 1, 0, 1, 1, 0, 0, 1, 0, 0, 1, 0,\n",
      "       0, 0, 1, 1, 0, 0, 1, 0, 1, 0, 1, 0, 0, 1, 0, 0, 1, 1, 1, 0, 0, 0,\n",
      "       1, 0, 1, 0, 0, 0, 0, 1, 1, 1, 1, 1, 1, 1, 1, 1, 0, 0, 0, 0])>)\n"
     ]
    }
   ],
   "source": [
    " # Let's look at a batch \n",
    "for i in train_data.take(1):\n",
    "  print(i)"
   ]
  },
  {
   "cell_type": "markdown",
   "metadata": {},
   "source": [
    "## 4. Modeling\n",
    "\n",
    "Let's create a model based on an LSTM layer "
   ]
  },
  {
   "cell_type": "markdown",
   "metadata": {},
   "source": [
    "### 4.1 Model LSTM"
   ]
  },
  {
   "cell_type": "code",
   "execution_count": 24,
   "metadata": {
    "tags": []
   },
   "outputs": [
    {
     "name": "stdout",
     "output_type": "stream",
     "text": [
      "Model: \"sequential\"\n",
      "_________________________________________________________________\n",
      " Layer (type)                Output Shape              Param #   \n",
      "=================================================================\n",
      " embedding (Embedding)       (None, None, 64)          937280    \n",
      "                                                                 \n",
      " dropout (Dropout)           (None, None, 64)          0         \n",
      "                                                                 \n",
      " bidirectional (Bidirectiona  (None, None, 64)         24832     \n",
      " l)                                                              \n",
      "                                                                 \n",
      " dropout_1 (Dropout)         (None, None, 64)          0         \n",
      "                                                                 \n",
      " lstm_1 (LSTM)               (None, 16)                5184      \n",
      "                                                                 \n",
      " dropout_2 (Dropout)         (None, 16)                0         \n",
      "                                                                 \n",
      " dense (Dense)               (None, 16)                272       \n",
      "                                                                 \n",
      " dense_1 (Dense)             (None, 8)                 136       \n",
      "                                                                 \n",
      " dense_2 (Dense)             (None, 1)                 9         \n",
      "                                                                 \n",
      "=================================================================\n",
      "Total params: 967,713\n",
      "Trainable params: 967,713\n",
      "Non-trainable params: 0\n",
      "_________________________________________________________________\n"
     ]
    }
   ],
   "source": [
    "model = Sequential()\n",
    "model.add(Embedding(vocab_size +1, batch_size, name=\"embedding\"))\n",
    "# the input dim needs to be equal to the size of the vocabulary + 1 (because of the zero padding)\n",
    "model.add(tf.keras.layers.Dropout(0.2))\n",
    "\n",
    "# Bidirectional LSTM layer\n",
    "\n",
    "model.add(tf.keras.layers.Bidirectional(tf.keras.layers.LSTM(32, return_sequences=True)))\n",
    "model.add(tf.keras.layers.Dropout(0.2))\n",
    "model.add(tf.keras.layers.LSTM(16, return_sequences=False)) \n",
    "model.add(tf.keras.layers.Dropout(0.2))\n",
    "\n",
    "# model.add(Dense(64,activation=\"relu\"))\n",
    "# model.add(Dense(32,activation=\"relu\"))\n",
    "model.add(Dense(16,activation=\"relu\"))\n",
    "model.add(Dense(8,activation=\"relu\"))\n",
    "model.add(Dense(1, activation=\"sigmoid\"))\n",
    "\n",
    "adam = tf.keras.optimizers.Adam(learning_rate=0.0005)\n",
    "\n",
    "\n",
    "METRICS = [\n",
    "      tf.keras.metrics.BinaryAccuracy(name='accuracy'),\n",
    "      tf.keras.metrics.Precision(name='precision'),\n",
    "      tf.keras.metrics.Recall(name='recall'),]\n",
    "\n",
    "\n",
    "model.compile(optimizer=adam,\n",
    "              loss=\"binary_crossentropy\",\n",
    "               metrics = METRICS)\n",
    "\n",
    "model.summary()"
   ]
  },
  {
   "cell_type": "markdown",
   "metadata": {},
   "source": [
    "### 4.2 Model training"
   ]
  },
  {
   "cell_type": "code",
   "execution_count": null,
   "metadata": {},
   "outputs": [
    {
     "name": "stdout",
     "output_type": "stream",
     "text": [
      "Epoch 1/30\n",
      "96/96 [==============================] - 13s 66ms/step - loss: 0.6695 - accuracy: 0.5764 - precision: 1.0000 - recall: 0.0035 - val_loss: 0.5611 - val_accuracy: 0.6894 - val_precision: 0.9737 - val_recall: 0.2833\n",
      "Epoch 2/30\n",
      "96/96 [==============================] - 5s 47ms/step - loss: 0.4938 - accuracy: 0.8100 - precision: 0.7975 - recall: 0.7557 - val_loss: 0.3507 - val_accuracy: 0.8759 - val_precision: 0.8964 - val_recall: 0.8009\n",
      "Epoch 3/30\n",
      "96/96 [==============================] - 5s 50ms/step - loss: 0.3246 - accuracy: 0.8790 - precision: 0.8725 - recall: 0.8415 - val_loss: 0.2309 - val_accuracy: 0.9271 - val_precision: 0.9287 - val_recall: 0.8953\n",
      "Epoch 4/30\n",
      "96/96 [==============================] - 5s 50ms/step - loss: 0.2394 - accuracy: 0.9154 - precision: 0.9149 - recall: 0.8859 - val_loss: 0.1714 - val_accuracy: 0.9488 - val_precision: 0.9578 - val_recall: 0.9190\n",
      "Epoch 5/30\n",
      "96/96 [==============================] - 5s 48ms/step - loss: 0.1819 - accuracy: 0.9411 - precision: 0.9434 - recall: 0.9186 - val_loss: 0.1292 - val_accuracy: 0.9613 - val_precision: 0.9543 - val_recall: 0.9528\n",
      "Epoch 6/30\n",
      "96/96 [==============================] - 5s 49ms/step - loss: 0.1538 - accuracy: 0.9509 - precision: 0.9542 - recall: 0.9295 - val_loss: 0.1031 - val_accuracy: 0.9691 - val_precision: 0.9636 - val_recall: 0.9651\n",
      "Epoch 7/30\n",
      "96/96 [==============================] - 5s 47ms/step - loss: 0.1251 - accuracy: 0.9578 - precision: 0.9590 - recall: 0.9418 - val_loss: 0.1026 - val_accuracy: 0.9724 - val_precision: 0.9613 - val_recall: 0.9707\n",
      "Epoch 8/30\n",
      "96/96 [==============================] - 5s 48ms/step - loss: 0.1083 - accuracy: 0.9654 - precision: 0.9675 - recall: 0.9507 - val_loss: 0.0700 - val_accuracy: 0.9796 - val_precision: 0.9834 - val_recall: 0.9659\n",
      "Epoch 9/30\n",
      "96/96 [==============================] - 5s 49ms/step - loss: 0.0991 - accuracy: 0.9663 - precision: 0.9680 - recall: 0.9536 - val_loss: 0.0745 - val_accuracy: 0.9764 - val_precision: 0.9824 - val_recall: 0.9609\n",
      "Epoch 10/30\n",
      "96/96 [==============================] - 5s 53ms/step - loss: 0.0859 - accuracy: 0.9742 - precision: 0.9759 - recall: 0.9644 - val_loss: 0.0689 - val_accuracy: 0.9790 - val_precision: 0.9862 - val_recall: 0.9654\n",
      "Epoch 11/30\n",
      "96/96 [==============================] - 4s 46ms/step - loss: 0.0847 - accuracy: 0.9742 - precision: 0.9844 - recall: 0.9556 - val_loss: 0.0596 - val_accuracy: 0.9777 - val_precision: 0.9968 - val_recall: 0.9518\n",
      "Epoch 12/30\n",
      "96/96 [==============================] - 5s 48ms/step - loss: 0.0774 - accuracy: 0.9724 - precision: 0.9795 - recall: 0.9555 - val_loss: 0.0717 - val_accuracy: 0.9764 - val_precision: 0.9705 - val_recall: 0.9763\n",
      "Epoch 13/30\n",
      "96/96 [==============================] - 5s 47ms/step - loss: 0.0723 - accuracy: 0.9736 - precision: 0.9776 - recall: 0.9610 - val_loss: 0.0594 - val_accuracy: 0.9731 - val_precision: 0.9904 - val_recall: 0.9463\n",
      "Epoch 14/30\n",
      "96/96 [==============================] - 4s 46ms/step - loss: 0.0603 - accuracy: 0.9773 - precision: 0.9844 - recall: 0.9626 - val_loss: 0.0684 - val_accuracy: 0.9770 - val_precision: 0.9890 - val_recall: 0.9573\n",
      "Epoch 15/30\n",
      "96/96 [==============================] - 5s 47ms/step - loss: 0.0610 - accuracy: 0.9759 - precision: 0.9836 - recall: 0.9599 - val_loss: 0.0478 - val_accuracy: 0.9790 - val_precision: 0.9939 - val_recall: 0.9586\n",
      "Epoch 16/30\n",
      "96/96 [==============================] - 5s 47ms/step - loss: 0.0545 - accuracy: 0.9788 - precision: 0.9874 - recall: 0.9629 - val_loss: 0.0528 - val_accuracy: 0.9757 - val_precision: 0.9952 - val_recall: 0.9479\n",
      "Epoch 17/30\n",
      "96/96 [==============================] - 5s 49ms/step - loss: 0.0534 - accuracy: 0.9787 - precision: 0.9882 - recall: 0.9616 - val_loss: 0.0381 - val_accuracy: 0.9862 - val_precision: 0.9880 - val_recall: 0.9807\n",
      "Epoch 18/30\n",
      "96/96 [==============================] - 4s 47ms/step - loss: 0.0517 - accuracy: 0.9787 - precision: 0.9822 - recall: 0.9680 - val_loss: 0.0372 - val_accuracy: 0.9783 - val_precision: 0.9951 - val_recall: 0.9534\n",
      "Epoch 19/30\n",
      "96/96 [==============================] - 5s 48ms/step - loss: 0.0509 - accuracy: 0.9798 - precision: 0.9913 - recall: 0.9613 - val_loss: 0.0516 - val_accuracy: 0.9810 - val_precision: 0.9954 - val_recall: 0.9617\n",
      "Epoch 20/30\n",
      "96/96 [==============================] - 5s 54ms/step - loss: 0.0488 - accuracy: 0.9790 - precision: 0.9936 - recall: 0.9571 - val_loss: 0.0467 - val_accuracy: 0.9796 - val_precision: 0.9969 - val_recall: 0.9574\n",
      "Epoch 21/30\n",
      "96/96 [==============================] - 5s 48ms/step - loss: 0.0543 - accuracy: 0.9783 - precision: 0.9864 - recall: 0.9633 - val_loss: 0.0371 - val_accuracy: 0.9882 - val_precision: 0.9984 - val_recall: 0.9727\n",
      "Epoch 22/30\n",
      "96/96 [==============================] - 5s 48ms/step - loss: 0.0503 - accuracy: 0.9798 - precision: 0.9868 - recall: 0.9661 - val_loss: 0.0382 - val_accuracy: 0.9810 - val_precision: 0.9904 - val_recall: 0.9640\n",
      "Epoch 23/30\n",
      "96/96 [==============================] - 5s 49ms/step - loss: 0.0501 - accuracy: 0.9782 - precision: 0.9861 - recall: 0.9621 - val_loss: 0.0432 - val_accuracy: 0.9803 - val_precision: 0.9953 - val_recall: 0.9593\n",
      "Epoch 24/30\n",
      "96/96 [==============================] - 5s 50ms/step - loss: 0.0475 - accuracy: 0.9798 - precision: 0.9893 - recall: 0.9630 - val_loss: 0.0374 - val_accuracy: 0.9829 - val_precision: 0.9856 - val_recall: 0.9732\n",
      "Epoch 25/30\n",
      "96/96 [==============================] - 5s 52ms/step - loss: 0.0480 - accuracy: 0.9788 - precision: 0.9887 - recall: 0.9620 - val_loss: 0.0373 - val_accuracy: 0.9796 - val_precision: 0.9967 - val_recall: 0.9540\n",
      "Epoch 26/30\n",
      "96/96 [==============================] - 4s 45ms/step - loss: 0.0434 - accuracy: 0.9800 - precision: 0.9901 - recall: 0.9628 - val_loss: 0.0331 - val_accuracy: 0.9829 - val_precision: 0.9921 - val_recall: 0.9676\n",
      "Epoch 27/30\n",
      "96/96 [==============================] - 5s 49ms/step - loss: 0.0398 - accuracy: 0.9818 - precision: 0.9929 - recall: 0.9641 - val_loss: 0.0315 - val_accuracy: 0.9842 - val_precision: 0.9983 - val_recall: 0.9629\n",
      "Epoch 28/30\n",
      "96/96 [==============================] - 5s 49ms/step - loss: 0.0383 - accuracy: 0.9833 - precision: 0.9952 - recall: 0.9654 - val_loss: 0.0276 - val_accuracy: 0.9869 - val_precision: 1.0000 - val_recall: 0.9695\n",
      "Epoch 29/30\n",
      "96/96 [==============================] - 5s 51ms/step - loss: 0.0452 - accuracy: 0.9806 - precision: 0.9936 - recall: 0.9608 - val_loss: 0.0387 - val_accuracy: 0.9810 - val_precision: 0.9985 - val_recall: 0.9588\n",
      "Epoch 30/30\n",
      "93/96 [============================>.] - ETA: 0s - loss: 0.0406 - accuracy: 0.9832 - precision: 0.9960 - recall: 0.9649"
     ]
    }
   ],
   "source": [
    "# training\n",
    "history = model.fit(train_data, epochs=30, validation_data=test_data)"
   ]
  },
  {
   "cell_type": "code",
   "execution_count": 29,
   "metadata": {},
   "outputs": [],
   "source": [
    "#save training\n",
    "model.save_weights('best_weights.h5')"
   ]
  },
  {
   "cell_type": "code",
   "execution_count": 30,
   "metadata": {},
   "outputs": [],
   "source": [
    "h = pd.DataFrame.from_dict(history.history)\n",
    "h.to_csv('history_model1.csv')"
   ]
  },
  {
   "cell_type": "markdown",
   "metadata": {},
   "source": [
    "### 4.3 Evaluation"
   ]
  },
  {
   "cell_type": "code",
   "execution_count": 31,
   "metadata": {},
   "outputs": [
    {
     "data": {
      "text/plain": [
       "<AxesSubplot:>"
      ]
     },
     "execution_count": 31,
     "metadata": {},
     "output_type": "execute_result"
    },
    {
     "data": {
      "image/png": "[encoded data removed]",
      "text/plain": [
       "<Figure size 432x288 with 1 Axes>"
      ]
     },
     "metadata": {
      "needs_background": "light"
     },
     "output_type": "display_data"
    }
   ],
   "source": [
    "# Visualization of the training on the accuracy \n",
    "h.accuracy.plot(color=\"b\")\n",
    "h.val_accuracy.plot(color=\"r\")"
   ]
  },
  {
   "cell_type": "code",
   "execution_count": 32,
   "metadata": {},
   "outputs": [
    {
     "data": {
      "text/plain": [
       "<AxesSubplot:>"
      ]
     },
     "execution_count": 32,
     "metadata": {},
     "output_type": "execute_result"
    },
    {
     "data": {
      "image/png": "[encoded data removed]",
      "text/plain": [
       "<Figure size 432x288 with 1 Axes>"
      ]
     },
     "metadata": {
      "needs_background": "light"
     },
     "output_type": "display_data"
    }
   ],
   "source": [
    "# Visualization of the training on the loss \n",
    "h.loss.plot(color=\"b\")\n",
    "h.val_loss.plot(color=\"r\")"
   ]
  }
 ],
 "metadata": {
  "kernelspec": {
   "display_name": "Python 3 (ipykernel)",
   "language": "python",
   "name": "python3"
  },
  "language_info": {
   "codemirror_mode": {
    "name": "ipython",
    "version": 3
   },
   "file_extension": ".py",
   "mimetype": "text/x-python",
   "name": "python",
   "nbconvert_exporter": "python",
   "pygments_lexer": "ipython3",
   "version": "3.9.7"
  }
 },
 "nbformat": 4,
 "nbformat_minor": 4
}
